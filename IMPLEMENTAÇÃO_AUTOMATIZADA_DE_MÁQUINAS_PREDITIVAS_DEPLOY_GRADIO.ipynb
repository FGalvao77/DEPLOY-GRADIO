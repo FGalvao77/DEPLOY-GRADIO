{
  "nbformat": 4,
  "nbformat_minor": 0,
  "metadata": {
    "colab": {
      "name": "IMPLEMENTAÇÃO AUTOMATIZADA DE MÁQUINAS PREDITIVAS - DEPLOY GRADIO.ipynb",
      "provenance": [],
      "collapsed_sections": [],
      "authorship_tag": "ABX9TyOOAHFOCeoIrN0Dy0mqbobr",
      "include_colab_link": true
    },
    "kernelspec": {
      "name": "python3",
      "display_name": "Python 3"
    },
    "language_info": {
      "name": "python"
    }
  },
  "cells": [
    {
      "cell_type": "markdown",
      "metadata": {
        "id": "view-in-github",
        "colab_type": "text"
      },
      "source": [
        "<a href=\"https://colab.research.google.com/github/FGalvao77/DEPLOY-GRADIO/blob/main/IMPLEMENTA%C3%87%C3%83O_AUTOMATIZADA_DE_M%C3%81QUINAS_PREDITIVAS_DEPLOY_GRADIO.ipynb\" target=\"_parent\"><img src=\"https://colab.research.google.com/assets/colab-badge.svg\" alt=\"Open In Colab\"/></a>"
      ]
    },
    {
      "cell_type": "markdown",
      "metadata": {
        "id": "0oI3yLFZCoGA"
      },
      "source": [
        "# **IMPLEMENTAÇÃO AUTOMATIZADA DE MÁQUINAS PREDITIVAS - DEPLOY GRADIO**"
      ]
    },
    {
      "cell_type": "markdown",
      "metadata": {
        "id": "JcuJloepDVeA"
      },
      "source": [
        "![image.png](data:image/png;base64,iVBORw0KGgoAAAANSUhEUgAAAW4AAACKCAIAAAAFYjf4AAAgAElEQVR4Ae19z0sb2/t/6B9wF+7uxm6KuPXdhavbTTe3i/fGz86F/SKKmI2LgC3lEgJa7i0o0vLphXq7EIu41AsXAsIFKeJCcOOHRB2dWI0Gk5IaCKMMYvLlnGdyMpk5M3PmzEyM+hQpk8lk5szrPOd1nl/nObE6/kMEEAFEIDACscB3wBsgAogAIlBHKkEhQAQQgRAQQCoJAUS8BSKACCCVoAwgAohACAgglYQAIt4CEUAEkEpQBhABRCAEBJBKQgARb4EIIAJIJSgDiAAiEAICSCUhgIi3QAQQAaQSlAFEABEIAQGkkhBAxFsgAogAUgnKACKACISAAFJJCCDiLRABRACpBGUAEUAEQkAAqSQEEPEWiAAigFSCMoAIIAIhIIBUEgKIeAtEABFAKkEZQAQQgRAQQCoJAUS8BSKACNx5KrnK75yvpCrbq9iXiAAicIsI3GEqubm8OF2YyAzF9hNdB8nuk0+DmrJxi1DioxGBh4zAXaWS7+kPexOx7HBsdyymvH6svn2qTvcdJLvPV1J6SX3IPYrvjgjcCgJ3j0o0ZWM/0ZV5SUhkd/xRk0rePlXfPj1M9Rwku8ubSzW9eiuA4kMRgYeJwF2ikqv8zsmfQ00SGX9kpxKinlBC+Tb3HB0oD1Om8a1vBYG7QSU3lxel9Ex2JJYdoZoIkIgzlTB753RhVMtt3Qqy+FBE4EEhcAeo5MfXxd244RYhaojlj/lKqD4CWknz/4YD5bpSeFD9ii+LCLQZgY6mEi23lfvjV6tF44tKGvaO+vZpeXOpzeDi4xCBh4NAh1LJdaVA3CJDPIvGP5WAvXOY6jma+QUDxg9HuPFN24lAx1FJTde+pz/sjlGLxsIa3I/uBo7F6qH2zunCqF5U2okyPgsRuPcIdBaVaMoGyxax+kS4PGILBje9JBYSMX08TPUcpnoKy4l737v4gohA2xDoFCrRi8rR7AtIORMlESAXX1pJK6Go0300A0VrG9z4IETgviJw+1RS06uni5PZYQG3CFcxkaUS5kD5NvccA8b3Vb7xvdqGwC1TCQn0jj+SUUYYrQShElBSpvsOUz3HHwcwYNw2scMH3T8Ebo1KNGVDner3CPQyvnA5CE4lJkL5nv5wc3lx/7oZ3yg6BPSicr6SKqVnzH/F1d+rmbXoHtqBd74FKrm5vDj5cyiQJmJmlrGY8qpbxNvqfQ1VT9S3Tx+aEHSgXN6hJpU3lyBrAbKx4f/My9jxxwGRt9BLaik9c7owUVhO3GnPXVup5Oby4nv6g7xbxMwg9Jjk0Y/FTj4Nqg0W8OYLk+eVfzENGB9/HEAHishIwGvKm0tkXmwVzuyIEJWQ4UCXg7D/1em+O2pot49KKlt/7ye6QlRGMkMxdaofSgpcVwpnX+IHyW51uo9PEJ4MYrmAEkphOYH2DpKFOwLSVKKX1N14Y4F7g4myw7HThVH3J3bmt+2gEi23FY5bBOCm2WvK5BP7wl9N2fg29/ww1RMWoUAGSnl9vqZjwLgzBfj2WyVNJeX1eeIrbJCIcTAW243H7mIKZbRUcl0pnC5MhGnRUE2y+M+cy9gur8+Ha+8AN2HG/e2P2o5sgTSVnC6Mcle6I5VY+9lc6MxKvRYmFvk4FssMxU4XJkSKpF1XCucrqdDtnZNPgyJPtwKBn+81AtJUcr6SsjtZSEEv1EqYwFS2V5XJJyEEehsWTeZlLPfumV8/6FV+J//XYLiEorz5qbCcuKOOMdZBeBAiAtJUUtle5bgOaUTyLgpYyAaOXlKP3w9wABLRO+zXNBb1BQmSacrG0cwv4TpQ1LdPf3xddDGyQpRUvFWHIyBNJTW9mnv3zBgsY9T/OhbLvIzd0VyE0KikpmuF5QTEtEIwZ8YfQaD3fCUVPIZS07VSeiZcB8pBsvv448Ad7fUOH5x3q3nSVFKv168rhcJy4jDZuxsnGyfk3j2zBxPuChrhUMmPr4u+V/TadRB2hnLz8fuBcB0TETlQzr7E76K//a4IaOe3MwiVwNvVdE0vqXfRqDH3TlAq0ZSN3Ltn4bpF9hNd0XGzltsK14ECplMpPXPXRcEsFngsjkBwKhF/VidfKU8l15VC/vN4ZsiaYyNt3RCjMR4r/jPXBrwq26thOlAg15aWLGhD4/ERHYUAUgl0hwyV1HStuPq7UbqZWSUBDrIjxNt0ujjZzon95vKivD4PSWghJsieLoyiA6WjhnrUjUEqkaQSvaSGG+jNDtNAr+wenZXt1cNkbyk9I+ed1Uvq6cJouAHjg2T3rWfc1/RqTa/qRUXLbeklFT5GPajs96/p1etKQcttkWYUlZvLC7mwV03Xanr15vLiKr+j5bbofapyt7I30ukMgHaV37muFFwArGbWiELdOpUKrsFxenQo5w0ZKKkmxCLcZ863VlLZ+psYNa3AyXykgd4gbhHDTTNEVgYTh8Xbp9IeFk3ZOP44EBahKK+6s8Oxq/xOKAIhfhO9qJQ3l86+xHN//KpMPlFede9NkJ7am6AQJXtz756dfBo0r4V3ObZriDeXF/bV9FwGr+nVyvZq7t2zw2QvaUPc+NubiBVXfxd5o5pevcrvlNfnC8uJ4/cDh8le5fXj/UQXkTQa7CCdnuw9mv1vYTlR2V7lNkPkQZZrarqmKRvnKymC4evHyqvu3XiMADj55ODNf45mX5TX5y3IXOV35KgEwjfnKynLXyk9Y2mV4Mearl1XCiAD6lQ/AQ1kABCbfKJO9R+/HyilZ+jsEvJaECkqsS8c8MksEDOWDvS25OOzeiV0AR7ZhFx2D63y5lJAeweielDjup1UoikbpwujJIhGl0qTjEmxPyN433oxuQkv4VIvqeAaY8tYuUkQBMZkryVdAtpD1qotTroPjGpm7XwlpU73EQta4HWgMep03/f0h4C7u1YzayTRw/Wh2RHCLGatUy8qhOBg29nGQBDRSjRlw16dIDscO0z2SryIpmycfBoUAQ1eMPfuWZB0LXsntp1KqDJy8ueQdKC3+M8ckR668Th0obH9eKOC0UGy++xL3DJ12N+ce6amV0vpGZl8tuk+Mmc25KltWklN185XUk0BaoiyjJ7IfjtGRou9gwwqYZfR3J/y+jxDkmw58mmw2TWmK432jMXOV1LsevPBzeVFZXtVffvU2GwA2M1+B6czVK4Ok73SEwlpOWz/2OhERwzHCMcxhVovqUTzav2VOJVYnzIWU6f7fNluelE5XRgluAEJOkFkPk8vzo7EQqzO00Yqodki6lS/tFeymlnjrDBmWompSgAoF6X0jK8uYZJ9ld/x4UCZ7iNqcOu81B4qIUWkXIauWdcwi5HnsTCVQLEYwO26Umjmbjo8IjsSczJCq5m1//sfP4OB9whQGfwuvKzpmhuMvAdBd8Pr3FxeEAG4JSq5yu8orx+70bdT++l5YJ9QdpvzTSVQu8hKpa7NhXmG2Mmygd7rSsExH59HJSQi0yiG5CS7jDicDkjJSLqTuUvJAmLRtJIIIJMdidxX0hwAdvBhwQE18vcTXWD4eExZlHdA3csOkylXRCvZHSMlY+r1ek3Xjj8OkEfYG8PO0Ec4aQ01XTOMC3a9+cBMi3Bs/tZ8TOXB3ninXq7X6/wVuuZ7Oh1TziVeoT9+vRUqqWbW7AqRWxdwX4TiadYuXbBy+co3lRD7wuavdms9VaVOFybkHGM3lxckH9+lHr0TlZjsnfxfg3Kei5qulTeXGCuZY8aHyV6zRWNBIDscecmJ8vo8fy4aI8b29/SHq/wO5FDqReUqv1NYTjiKHSGdnw+TvWdf4pXtVfihXWjsBs4uBb+mV/mLXC2CS0XWJTOYRFUtZNTQw3fHH1FO/Jn6EX82XqRVEWBdkB0mhfXs7eeeOV9JcYqGsJZDA4aJQW38WYwIyiaGP5j9ipp+ngUZwVfCmm0cCBs4V/kdxw6l0xubGPgtN7UWJvuAbBIllVCL5jDZKzeM6/V6ZXt1b+Jn/oBhQLhTiYlQiqu/y9EZeNqb8R2waFzmRhgzJZUru6GcvK4UlNePLTMhqd0/QkaRk9NOy21xhI+uateUDU9jkEsl+4muUnrGWg2MIpAdJulCmaHG/3TbVpfXv64UDHamP8+8JC6bk0+D39MfNGUDaBFCwnpRgQgRXzbo8BaROq6bgw3p7DBpwOnCxPf0B/gr/jN38ueQtRggj9Gi9pVcVwoHyW4r88KgoONuP9F1ujBa/GeONf50YUJ9+5SPGGjW8UCqdGRUQgVU2i2i5baU14+F8vFFqIQSCjhTpUui6UXl+OOA3S1inVWgV8Zicn5fl5Fm/oprZmZHSIaO+TL7saZsWId9g4DsF1vOcKiEEbrpAORbneqHMK2mbJBkEGWjsr3qGeYspWcgSKRO9XuuRTBczjxOzw7Hvqc/WNpv/wiuVqceLCwnuIZSTa+W1+dddFLg9Ei1ElDVuS3fm4g5QVfTNeLbnurnchDIj9x0W6/XfVPJ2fJvhNhMomM9piRCqsBP952vpLidYe9UdobmjE34yMcXphJwoBwku8keWv4z4kgayx+/cvuAg0DEVMIZA3REibwXCRlaJlKxadybSqg5cPx+QNo/BQqguBfQ0UczFjtM9TCh4h5ouS07q5KupEh6tkEvqWSSt1hkjXERqVZyld9xavneRMxTBm4uL77NPee2PDtCaIgLl+fJsKlkjHjsmJ8SIinnKylP5Rka6m/jceg2X1TSsHcOUz3iJdFIjNPXbhtUFqPTSm4uLzhTIvWAikwpJDvTNgCyI7EfXxfdxcWDSuhbn32Ju98k9G/JuKKPbiF0SmpOhh60wcm/Iz6cSJ1noJ4Gg7A2REolxdXfOdM5BcGTR+Ddby4v+E5u6miT6yPfVEI25bQJogFonDj8zL7JZiTFa6lbNbOmvOoWsmgs3SZBJQ1COUh2O6mCDHFwy/Ff2dIS9jFiKtGLit3lkR0heVMiQnBdKXB/7lno3J1KxBsg0kjxa24uL0gczaJn0S0fXVy8N5cXdhBAjA+TvSKMDC0spWe4shEdlegllTORUCvVF49zTV3YKlNOqQyDSujIISTisnEEDc1yN5eBQK8MicDQlaYS5kBxyLiX322Dmnji4ig+bOBKkl5p3/RAWDVtejcZ91FBPJp94d4SFyrJjsSOZv8rqHu6P0XiW5IoYJve3FN7iHVj12UoAfkKZDg5bqOjkvLmEqfl1ER1CrQ7QcqN39Ou9JAE7g2DUQntDLNFY1VJYP5n/1NCYamoUIvILdBrknWmOloPglEJ14Fyld/h5MKJNKbBbnsTP3PhDuVkZXvVLkziajk/+kNjkO7Nc6QSSp0iERP3+0t/S8xPO5WMuFU2JKF020926YB00WXsLYR0GI5OJLClllwwGGoVWkYBjH+/VM5diEgC/K+63W1DOw4ybtemgdPqFvEgEcYmjeSx08XJZoq0+Ci1XxmcSqBtjT20Thcn5VWktlAJ1+vmi0rsGrLIXORCJcfvhTa15Ipg8JNNmTSJR9aVSshP7NGDsVjuj1/9tof4XGysFJ1WcjT7gvs4CXcpVz8ltCgVFZbSSmgftKx8MTOF1zGseSNw2OxbC9cKfZRmNFs7IVPD3k9CzTAJMZ3cItRKuEp1dsR7pRwMEr6vZNhxdQwbWk5Ukh2JecY72E2CHECpAbZ2Xi8q8OdXKyFxH55NtDsm6m8yv4VRON4sANRgjCIYzPe408cJOlzNLa/pmjrVbx+GpENNS6vMP3E59k8lCxN7E2QVkMxf65o330O0tbfARaRMPjlfSR3NvoA6AzKtevuUregN3iRyB0qRLqAH/Kqma5z8NOp7Fwm9E9G3z6LD3tLDpxI6iYk81+9bk0InykYpPXO2/Nvx+4Gj2RdQteAg2Q2rAQyHEc/lAZkdTmlNjp5a5yVCLo0PuDLYKnKu2a5cNxks5JOLGOY/j3OFQbAWhBkW31SiFxW52qhCyV02srAC3biAFF4bIsUvwLtJMtzX5w+SRuESH4QSLrvB4pexyGdp7rIRl8VyrMtrunY0+8I6EYnptE5Uorx+HKKPWS+p5c2lo9kXhhXGcueBMrj/N6TCLC0uBg5ZgOeQKywxtzsF1KLQSgiV2KmTdp9cFxSWE1ZhoL5nieVyvqkEhLKyvSq+Oy/pNlvEwdzr/o7pcD1+P2D38+kltbCcaGa4u6tO032kYQ0lwl8bHGQ3O9xSyYIN4NAPuJrFLrX17LCYn871/4ukydbrdScq8RU9NTfGcgxueNi6wLB/A5jALlTi6CMYi/kNgsAGFFzfUxRUwi2zBN5iOSrhBrOzw7Gz5d8sveP5UZJK4L7etVHDnvMzL0k9K/ep4yq/c/xxwL3mSOgWTeZlLEgRFs9+slzguI6WsgkXH0j35nA6nfZFUgkipRK63kqgyEAYWgnXWwSzfYdTiZbbIjEBy0xGO91v+IYNYY5WMkKE2SJynh8DUQnbE0h585M1qQRIJMQ5ny7NFF9BQ2q+pnrshOK+otfaSZY+s3+kS6eUV91OZrlnB0hfQFKMuPBSdfdo9kUpPVPNrFUza+XNJWPfJrtuTLVZz4wSaGR0VMLVlZp9ATYOrA4HPYVWeNxPdLGaic2LG33krpVw8tMoOHJUYjeXIorgOIVv9xNd4VLJ8fsBvzcMSiUgZFpuy1AEqE1hIBtAO22RDGrRSJQpgE35mmzCVKSQGgZKuMiyMWm+cP+h4wikowIW5rLV8fbJB3yT6tungh67iKjESOTndgpwXzx2NPuiuPp7ZXtVUzag4vRVfgeKTjuFY9ypxG6SBNFK2lb6iKSi8LSSvYmYtIFjF4xbMHAsgg7F3zkqdGOiaCEIwZPOGrvl6U4f9aJSWE4Q0QnXXzMSy38eFxyETm0Lfv7H10WjGqMgnuwyOtUfzb4QD75EQSVO8UigOeX14/OV1FV+x32G9BsMdnO7+i8MzPW8RKSVOPlKduOSVOLodhWr5m0W4HC0ErB08p/HgdplKIOJODugijrJXpnu42bcm1/D5VhTNpTJJ3bqlW8kZTdS7nzmF4nwu0tT5b4C35DoCzYUlr0JEv11H6KW9kRBJXyNnRpuh8lewcRTPpUMO2a7OgWDd8ccf2KBwvyx3REc+4xI+1R8SjA3ng+d8CIM861CoJKarp0t/wZZHvLjkzEI2P80e7fpf6GpqGR3Xj/1hMgYez8QNHXV0rDxR80li7RVt74JORSaa0Ee7ILW/8He2Y2TEoo/vi76QhIkJgoq4S4Dgdxt91CUWYi5+WZZZyqBiDgnn0JqCHEDtBFpJTW9avfLgAbH9bWbUbIfO6mEIsvE7XcLSiXlzaUwd9iiPLKf6GoOV1NAF5LQaPFnj52BYMcWSN1pGWNmXvB1TIclFGGxJq1I0Zy9J+TOXFcK6nRfMwectlN9+/T448C3ueeEi6f7vs09/zb3HLyw4GKQe1boVFLTqxyfBfUE+0oD52TK0Ju4+MJPFyaaoDUkgWQML4z6BceojNm4CchbRFRSr9e5xQHEl02Y345rmhH1tj2J86wpelERLXTWirLj2G4YDtaxamITVmbVJXhpuA/Y7haCT3e5jDasqSKZ29M4Pkz1wKZ8vkwGBqbcgV5SjR1nWOPH5EvXeLYhdCq5rhSIMNgcru6Lei3t5I8HLypxWs5H96Dxt9dUm9fgkGIl9mRlsjLb93Jebso/ZCdJOAFltBLYeJyQuk0IHGmCyTr3gN6HP+c3xmoLv1BF4HRh1KLUkRrxU/0RWjTcxphOHqZ6jmZ+caE5yzAI+PHsS9w8tQpmmkk/NHQqcapaxN3Qy6nZmrJhH1pgbrtoJfxQOtXpXH5lb4OLxRFFilq9Xq9m1si4sww9sTp4lvZzavGJlZuw3Ac++qYSKPQQGo9QUHyUKTCNW5USCuyTVtOrZDWBS2F6LoW5nAR2e/24hcLMT3c6poUUjmZ+keB1bg85nbSPQxfvgNNNfJ1vH5WMPxJ0uNbrde548KSSmq5xUkvEluGZQeMWfADnRURUQhwc031WKqEt91X6iOst3h1/lHkpuezDN5WQPYPtkW2XMenylYhF4zRiG+fBgWLUK3B5lvhXQdiNllCAcnDiXkOzaIof27XTO0cl3IVwwAKCqWKOmTVeBk69XrfodIZCTXtfcKEzlH23j+pIqaRerztZZ7tjjjuWWeSqple5Phdp60amXkkIVEJTzrLDpMKK7zm/wSCWH3K707e1RVNXd+kSW8v9BT+yfHxf1r6lmwU/cuRpjFScj04bctJKpJfzEV+JPbRJWUDE/akpG1zNAvrdk1gdU+PoDOcZ4WpujcibpaJzuzqt+iFvTc0cTwOtpmvcdBJgQMGynnYpbbdWArb99/QHvaSer6REl945MAgb4UGphLKbMvmksr1a2V49mvmlmSPr9WhoAyMRJsdRayX8jAwaRC8sJ358XYR34f4PCfV6UfGVIhk6lRBdnW4SbCV9L9Xg5vKCVBTn0RC7lSeV1PQqt4wQG5NOuklN14hXbrqP66MxBCCyKmowhrlhI2j5Lt2YmduzzZbbyz41gqeC+mAIVPLj66LZ1cd6zvuADlfLmjd/u/M6j+ogVEJeJ04K/7DgC9uEHKwnRlj8A7bDlml2aoNW4hS5AFuvZUM2OjIJROa/8Ud7E2RtJOw1IaLLhE4l9XqdrEx1EGsYEpqycV0pwJ9eUvWiQhaRQl1o5nqE9zLhD1aS5/xMXJi8EBIbk+pU//lKqry5pOW2Ktur5c2l85UUKRdk/hX36RFTieN6Ttow2B39+OPA9/QHmFTK6/OF5YS15WbE6FsEiRj41krK/37m9725WZbjxjZ9ToRH9hX32p2XP4wb5CJHJaToCV3Ryx1IelE5+xJ315ucyhS0Yc/g5jhkI8oCu8tHM6fQDHrl9WOnSZjNP1FQCbcinDEt0YaB9U6W7b1+DOYM0QVMrwxxK3t+iqdWAu9FKr9wuQzQg5WEI3SXzxGycNl4OmsAtSnsdlakBg60XC+pyiuHDfqA6VjjuS03iwcdodKmDbTHN5X43TMYfCKea96gdhFLG3EnDvu3ZtkyBNGMlP2YYpf741dLOJkNG3agKRv5vwbt9o7ForE8NDsS+Z7B0EKyySZvVrS0x/ujsWZylKlmDAF2EAWV1Ot1Iy+DDU5LZ7WynqWjG+WRq/Y4jiCVGDl+tkwNb8TocCVbWOW27OnnbaCSer1O6pm72lmCb5EdiZ19ibt0PZMBl4MoqcSQzgnxJlp3520oHXbusJyxSJgbgrRVu3HvHaTMqJU3lxibeJcpoLOBeDjT/CCJ47Mvcbf3tYxMl48NNnFqQ0RUYqSx+01ToiCr032gUZKty1uVC0EqgZJOJNOvVdnxhpRyHNhQ9gJC7aEScMGSWIxf9JgY0LcwW/dOve95PjIqoYqfk0Xj3iwtt+W35qMglYC4FJYT4uzGmlrTq2df4oYi7TSFQg/R7uEaTexuwQ+uK4Xv6Q/cFRnew4BJkuWAsomTpRMRlcB4MDyg7sCa4KVJ7hPMuWjfWV2cSqABx+8HDP3Osw0UpcNkL1NpOTk+EftKzPIDeyeT6nPibEhFNDtCFmR5epTMz3I59k0lgnsGww5bZHde/6u2obnlzSXDgSKgm3hTCe3+4/cDcsoC7Nu8N/Gz94MaZmqkVFLZXlVeP7bORSAftEYUSBXY9s1j+MpcQ8hCJbTxTgUW9ZL6f/9DvQbsPsOkwu5+oosNaRdR8/zqx9dFYvyz5pmHNH01I3uIbmlqcRCCGzIzZDQv85I0zO8gMapkUFGx0kpj7GWHyfuer6Qsr7yf6IKWA+aZl96Z7JqywcVTef1YYhuaZjENqq8Z7Wf9ywCkfp9dupEmXRrusZzNs9fYBb6phL+BiGm6aMl/bySkyg3gm8uLUnrG3fEJlo7bCKeSsZ/o8itYDCPf+fi026KjEiMpoHWkEb4Yf5R79wxKBHFjwOXNpR9fFwvLieOPAyD6HNyoILL5loFQr9dJScd/P//4umj5s4xq80/8Hl9XCuXNpZNPg8qbnyAKkxkirvHscGxvgmTNFJYTmrLBVSqv8jvm5pX//WwZ7SKNgXDp2fJvh6kemOcJK9EGKK8fn3wadNoZtrK9evYlXlhOwN/Zl7gnLORluXhu/S3SVO41AODpwigJ1sQJbkb7RwiAypufIKyj5ba4GHLvKXhSikrsPioq1k7574epHuXNT0594NnQ60rhdGGUuSosXhJ3KiHzdpwUpvd8CvcCvaic/DmUGWoJGXibD1FSiRGMb+WR3bEY2U29qHDfgnvy5vKisr1qD3zAAD5fSXF/1baTN5cXLAYMBxK8EKS1NV2zNEBCUwjSgIC/tbf/ulKIFMMwqISuSuaWBTAPe1jq5mSHewKnKRsuxZ+5s2tmKHa6MOGZtsh9dE3Xiqu/Q/6fN3cwNZJpZ+OPopA8fi4JTUnivoXnSZJYYUv0An++52/xAkTAjEAwKmGFzgTcGYRWqL1z8mlQ2oFSSs9wHSgtVEItGnWqX/opMF1bPREWvnD5SFzOkezOZ0/oakRD/a2LN0vA0ex/W9CjC8NE8tbNN8FjRECWSqiC3eIWEWSTBqEUlhNy3gQoa2RxoLDBABaNtFvkKr+Te/csaJmCyKiEk+gdePsuo4ymiRnlKgDhWHrgCPinElp+yqnQmdmicT8G38f39Ac5989VfsccMIaCaZkhkv8uZxAaZQogndE0rnxbN0bmUvhaCWf3FtmCV2aht2/1CBuDma/BY0TAEwH/VLI4Sdyr4jqIy5W0tIc63SetRFQza9/mnh8kSQTRsrrH883ZBSTR9t/P4KVn2o0MgzQIKEu95ez+YR1w1tFSKvHlbbU0htRef9VteeuswP7BlvvgR0TAN5VcVwqCAVpRuqEOlPxfkg6Um8sLWLAk15easnGY7A1q0TRIZHeMpDPk/vg1imXB/F3shUtUcPGxp2kSWonH5HzV3EfgyQeCgG8qAVz0kmq2L0RZw0tDgR2p3s8AAAXrSURBVJJo7YH+ulL49r//L0QSgdwHz2wC6ber6ZqxIpYxF3WRfpt7LmckkiK4kLlkuuEuLXoi3Uj84YNFQJJKAC8I0BIPqAtH+PkKtuaMenMZkgK//Bu4V4IYMuy3JMFxOCaXE+VL8kjhL15Sj18KhmIxXB7ZHSP74/hqFV6MCMhUUbOjVl6fP0h2EzeqH9ZwvJg6UILsoWVvofkMSTmn2dkWBwHjBX8H1KLxtceduTF+j/klgqluok71lzeXXIJiNV0jxT7o/sEk1ZW3XgMdrn57BK9nCATSSthduAFaR7IQYZyGA0UuHMMaZj64yu9A1dWwSITUT5h8EoVbxNxsyzFZTd+6BNbgPmqq7E3E1Om+o9kX+b8G838NnnwaPP44cDT7IvfuWbPeB3cVKc2Xj7Seo+VF8OM9QyAcKgFQtNzW6cKoJeMjOKGU1+cDEopeUk8XJjj6vNlH4OcYslfK/36Wc1IEkSFIeOWYOdB+8H20/m8oIHa3CHtlyiMnnwZdlJogbcbfPgQEwqQSwKuaWQOXh/seVKIU0wgYS7szy/9+hnUloSgjUHjtdKG5vL39UgJ5dPLJuIxBaAoMhK7pnofyKbPtBwGf2GkIhE8ldAmpRgpwpnpCdKAcJLuJA0XZEEewsvV3mPsHUrfIyZ9D0vn44i33vBIsyqbLw7y6z8wUTseNdejKq+7zlRSGfj0Bxws8EYiESuCp15VCiDXliRZDNZSzL3FPPZzEqukOW6FoIiRb5CWpUiG9FtGzG+Qu0IvK+UoKIsRGqQ5wprYaOGDZQZgJMvH2E135z+Pl9XlPJOUahr96gAhESCWA5lV+5/jjQIgOFNid16lqS02vnq+kjBo5TnOyn/NQz0Y6wb8NIkVCMyW1mlk7X0kdvx9Qp/rVqf6DN/9RXvUdvPkPfMy9e3byafB8JVXNrAXZgbwNr4OPuKMIRE4lgEtle5W7olfUY2IL+hymer7NPbc4UCpbf+8nusLKOoNpPP95vM0xmjsqSdjsB45Am6ikXq/DNkjhZqAcJLtPF0av8jtabkud6g/HE0mdkZD/7ss188AlCV//gSPQPioBoPWS6rm5jD9VhWaghKWJgGW0n+j68XXxgUsGvj4i4AuBdlMJNE7LbcGK3nACxtzNIv04RCDLCyyas+XfAqax+OoAvBgRuB8I3A6VAHbl9Xljd16bK8SfYhKcSmiM5vj9ALpF7odY41u0H4HbpBLIQCHhzFRPQPVEPuhLqzeSjccDlPluf7fhExGBTkPglqkE4NCLSsCSBTJU0tjuhCZ6hrYbSKd1MLYHEWgPAh1BJfCq1cza0ewLOQ3FL5XAspSTP4cwR6s9coZPufcIdBCVsIx7YxPy6T5xj4kPKmkUOuuE/Pd7L174gg8Hgc6iEsAdMu59qSdCVNLYpg8DvQ9HvvFN24ZAJ1IJvPxVfufk06Bgxr0nlbBAbxQ7XbWtt/BBiEDHItC5VAKQlTeXjICxq73jRiVg0bx7hoHejpVCbNg9QKDTqQQcKN/TH9xLFvCpBAK9r7qlN8e4Bx2Mr4AItAeBO0AlAIReUgvLCSd7x0oljUDvrRQ6a0/P4VMQgY5C4M5QCaAGGfd2j6yZSohbZITssIX57x0latiY+43AHaMS6AxSsgAKNTYy7g0qabhFMNB7v6UW364DEbiTVAIlC8wl2qDQ2W48Zqlg0oGIY5MQgXuJwF2lEugMWkqe1LjPjsSK/8y1v/77vZQJfClEQAKBu00l8MJQZFDi5fEniAAiEBYC94FKwsIC74MIIALSCCCVSEOHP0QEEIEmAkglTSzwCBFABKQRQCqRhg5/iAggAk0EkEqaWOARIoAISCOAVCINHf4QEUAEmggglTSxwCNEABGQRgCpRBo6/CEigAg0EUAqaWKBR4gAIiCNAFKJNHT4Q0QAEWgigFTSxAKPEAFEQBoBpBJp6PCHiAAi0EQAqaSJBR4hAoiANAJIJdLQ4Q8RAUSgiQBSSRMLPEIEEAFpBJBKpKHDHyICiEATgf8PjC50nVh/v+MAAAAASUVORK5CYII=)"
      ]
    },
    {
      "cell_type": "markdown",
      "metadata": {
        "id": "ZECW1trFDlLI"
      },
      "source": [
        "- https://gradio.app/\n",
        "  - https://gradio.app/getting_started <br><br>\n",
        "- https://github.com/gradio-app/gradio"
      ]
    },
    {
      "cell_type": "code",
      "metadata": {
        "colab": {
          "base_uri": "https://localhost:8080/"
        },
        "id": "dLZbwTKGCRwa",
        "outputId": "de4c4bc2-a959-436f-fcde-fa49b8686453"
      },
      "source": [
        "# instalando a lib\n",
        "!pip install gradio"
      ],
      "execution_count": 1,
      "outputs": [
        {
          "output_type": "stream",
          "name": "stdout",
          "text": [
            "Collecting gradio\n",
            "  Downloading gradio-2.3.0-py3-none-any.whl (3.4 MB)\n",
            "\u001b[K     |████████████████████████████████| 3.4 MB 4.0 MB/s \n",
            "\u001b[?25hRequirement already satisfied: pandas in /usr/local/lib/python3.7/dist-packages (from gradio) (1.1.5)\n",
            "Requirement already satisfied: Flask>=1.1.1 in /usr/local/lib/python3.7/dist-packages (from gradio) (1.1.4)\n",
            "Requirement already satisfied: requests in /usr/local/lib/python3.7/dist-packages (from gradio) (2.23.0)\n",
            "Collecting Flask-Cors>=3.0.8\n",
            "  Downloading Flask_Cors-3.0.10-py2.py3-none-any.whl (14 kB)\n",
            "Requirement already satisfied: matplotlib in /usr/local/lib/python3.7/dist-packages (from gradio) (3.2.2)\n",
            "Requirement already satisfied: pillow in /usr/local/lib/python3.7/dist-packages (from gradio) (7.1.2)\n",
            "Collecting ffmpy\n",
            "  Downloading ffmpy-0.3.0.tar.gz (4.8 kB)\n",
            "Collecting pycryptodome\n",
            "  Downloading pycryptodome-3.10.1-cp35-abi3-manylinux2010_x86_64.whl (1.9 MB)\n",
            "\u001b[K     |████████████████████████████████| 1.9 MB 47.2 MB/s \n",
            "\u001b[?25hCollecting Flask-Login\n",
            "  Downloading Flask_Login-0.5.0-py2.py3-none-any.whl (16 kB)\n",
            "Collecting flask-cachebuster\n",
            "  Downloading Flask-CacheBuster-1.0.0.tar.gz (3.1 kB)\n",
            "Requirement already satisfied: numpy in /usr/local/lib/python3.7/dist-packages (from gradio) (1.19.5)\n",
            "Collecting paramiko\n",
            "  Downloading paramiko-2.7.2-py2.py3-none-any.whl (206 kB)\n",
            "\u001b[K     |████████████████████████████████| 206 kB 46.2 MB/s \n",
            "\u001b[?25hCollecting markdown2\n",
            "  Downloading markdown2-2.4.1-py2.py3-none-any.whl (34 kB)\n",
            "Collecting analytics-python\n",
            "  Downloading analytics_python-1.4.0-py2.py3-none-any.whl (15 kB)\n",
            "Requirement already satisfied: scipy in /usr/local/lib/python3.7/dist-packages (from gradio) (1.4.1)\n",
            "Requirement already satisfied: Werkzeug<2.0,>=0.15 in /usr/local/lib/python3.7/dist-packages (from Flask>=1.1.1->gradio) (1.0.1)\n",
            "Requirement already satisfied: itsdangerous<2.0,>=0.24 in /usr/local/lib/python3.7/dist-packages (from Flask>=1.1.1->gradio) (1.1.0)\n",
            "Requirement already satisfied: Jinja2<3.0,>=2.10.1 in /usr/local/lib/python3.7/dist-packages (from Flask>=1.1.1->gradio) (2.11.3)\n",
            "Requirement already satisfied: click<8.0,>=5.1 in /usr/local/lib/python3.7/dist-packages (from Flask>=1.1.1->gradio) (7.1.2)\n",
            "Requirement already satisfied: Six in /usr/local/lib/python3.7/dist-packages (from Flask-Cors>=3.0.8->gradio) (1.15.0)\n",
            "Requirement already satisfied: MarkupSafe>=0.23 in /usr/local/lib/python3.7/dist-packages (from Jinja2<3.0,>=2.10.1->Flask>=1.1.1->gradio) (2.0.1)\n",
            "Collecting monotonic>=1.5\n",
            "  Downloading monotonic-1.6-py2.py3-none-any.whl (8.2 kB)\n",
            "Requirement already satisfied: python-dateutil>2.1 in /usr/local/lib/python3.7/dist-packages (from analytics-python->gradio) (2.8.2)\n",
            "Collecting backoff==1.10.0\n",
            "  Downloading backoff-1.10.0-py2.py3-none-any.whl (31 kB)\n",
            "Requirement already satisfied: urllib3!=1.25.0,!=1.25.1,<1.26,>=1.21.1 in /usr/local/lib/python3.7/dist-packages (from requests->gradio) (1.24.3)\n",
            "Requirement already satisfied: chardet<4,>=3.0.2 in /usr/local/lib/python3.7/dist-packages (from requests->gradio) (3.0.4)\n",
            "Requirement already satisfied: idna<3,>=2.5 in /usr/local/lib/python3.7/dist-packages (from requests->gradio) (2.10)\n",
            "Requirement already satisfied: certifi>=2017.4.17 in /usr/local/lib/python3.7/dist-packages (from requests->gradio) (2021.5.30)\n",
            "Requirement already satisfied: pyparsing!=2.0.4,!=2.1.2,!=2.1.6,>=2.0.1 in /usr/local/lib/python3.7/dist-packages (from matplotlib->gradio) (2.4.7)\n",
            "Requirement already satisfied: kiwisolver>=1.0.1 in /usr/local/lib/python3.7/dist-packages (from matplotlib->gradio) (1.3.1)\n",
            "Requirement already satisfied: cycler>=0.10 in /usr/local/lib/python3.7/dist-packages (from matplotlib->gradio) (0.10.0)\n",
            "Requirement already satisfied: pytz>=2017.2 in /usr/local/lib/python3.7/dist-packages (from pandas->gradio) (2018.9)\n",
            "Collecting bcrypt>=3.1.3\n",
            "  Downloading bcrypt-3.2.0-cp36-abi3-manylinux2010_x86_64.whl (63 kB)\n",
            "\u001b[K     |████████████████████████████████| 63 kB 2.4 MB/s \n",
            "\u001b[?25hCollecting pynacl>=1.0.1\n",
            "  Downloading PyNaCl-1.4.0-cp35-abi3-manylinux1_x86_64.whl (961 kB)\n",
            "\u001b[K     |████████████████████████████████| 961 kB 58.1 MB/s \n",
            "\u001b[?25hCollecting cryptography>=2.5\n",
            "  Downloading cryptography-3.4.8-cp36-abi3-manylinux_2_24_x86_64.whl (3.0 MB)\n",
            "\u001b[K     |████████████████████████████████| 3.0 MB 19.4 MB/s \n",
            "\u001b[?25hRequirement already satisfied: cffi>=1.1 in /usr/local/lib/python3.7/dist-packages (from bcrypt>=3.1.3->paramiko->gradio) (1.14.6)\n",
            "Requirement already satisfied: pycparser in /usr/local/lib/python3.7/dist-packages (from cffi>=1.1->bcrypt>=3.1.3->paramiko->gradio) (2.20)\n",
            "Building wheels for collected packages: ffmpy, flask-cachebuster\n",
            "  Building wheel for ffmpy (setup.py) ... \u001b[?25l\u001b[?25hdone\n",
            "  Created wheel for ffmpy: filename=ffmpy-0.3.0-py3-none-any.whl size=4710 sha256=8a81b53f0be4af024ca2ffd0c38225986492597ac60bbe76d07c1a43ca491daa\n",
            "  Stored in directory: /root/.cache/pip/wheels/13/e4/6c/e8059816e86796a597c6e6b0d4c880630f51a1fcfa0befd5e6\n",
            "  Building wheel for flask-cachebuster (setup.py) ... \u001b[?25l\u001b[?25hdone\n",
            "  Created wheel for flask-cachebuster: filename=Flask_CacheBuster-1.0.0-py3-none-any.whl size=3371 sha256=5fc3851ae0f250a8eefff96804393a848517c0f84f6d52e2f9a8624ee63a9970\n",
            "  Stored in directory: /root/.cache/pip/wheels/28/c0/c4/44687421dab41455be93112bd1b0dee1f3c5a9aa27bee63708\n",
            "Successfully built ffmpy flask-cachebuster\n",
            "Installing collected packages: pynacl, monotonic, cryptography, bcrypt, backoff, pycryptodome, paramiko, markdown2, Flask-Login, Flask-Cors, flask-cachebuster, ffmpy, analytics-python, gradio\n",
            "Successfully installed Flask-Cors-3.0.10 Flask-Login-0.5.0 analytics-python-1.4.0 backoff-1.10.0 bcrypt-3.2.0 cryptography-3.4.8 ffmpy-0.3.0 flask-cachebuster-1.0.0 gradio-2.3.0 markdown2-2.4.1 monotonic-1.6 paramiko-2.7.2 pycryptodome-3.10.1 pynacl-1.4.0\n"
          ]
        }
      ]
    },
    {
      "cell_type": "markdown",
      "metadata": {
        "id": "ty24Ih_gFDH3"
      },
      "source": [
        "## **Funcionalidades para Ciência de Dados**"
      ]
    },
    {
      "cell_type": "markdown",
      "metadata": {
        "id": "JY4N3ymcQp_m"
      },
      "source": [
        "### **1) Exemplo de implementação de entrada de caracteres**"
      ]
    },
    {
      "cell_type": "code",
      "metadata": {
        "colab": {
          "base_uri": "https://localhost:8080/",
          "height": 640
        },
        "id": "Z1PGzJq2Cr50",
        "outputId": "9771301e-573f-445d-f30a-14f1571dccdd"
      },
      "source": [
        "# criando uma interface de interação com o usuário\n",
        "\n",
        "# importando a lib\n",
        "import gradio as gr\n",
        "\n",
        "# função para entrada de dados em caracteres\n",
        "def greet(name):\n",
        "  return 'E ai, ' + name + '! \\nTudo bem?'\n",
        "\n",
        "iface = gr.Interface(fn=greet, inputs='text', outputs='text')\n",
        "iface.launch()"
      ],
      "execution_count": 12,
      "outputs": [
        {
          "output_type": "stream",
          "name": "stdout",
          "text": [
            "Colab notebook detected. To show errors in colab notebook, set `debug=True` in `launch()`\n",
            "This share link will expire in 24 hours. If you need a permanent link, visit: https://gradio.app/introducing-hosted (NEW!)\n",
            "Running on External URL: https://17255.gradio.app\n",
            "Interface loading below...\n"
          ]
        },
        {
          "output_type": "display_data",
          "data": {
            "text/html": [
              "\n",
              "        <iframe\n",
              "            width=\"900\"\n",
              "            height=\"500\"\n",
              "            src=\"https://17255.gradio.app\"\n",
              "            frameborder=\"0\"\n",
              "            allowfullscreen\n",
              "        ></iframe>\n",
              "        "
            ],
            "text/plain": [
              "<IPython.lib.display.IFrame at 0x7f9df742d490>"
            ]
          },
          "metadata": {}
        },
        {
          "output_type": "execute_result",
          "data": {
            "text/plain": [
              "(<Flask 'gradio.networking'>,\n",
              " 'http://127.0.0.1:7867/',\n",
              " 'https://17255.gradio.app')"
            ]
          },
          "metadata": {},
          "execution_count": 12
        }
      ]
    },
    {
      "cell_type": "markdown",
      "metadata": {
        "id": "NcXG4yDFH3aD"
      },
      "source": [
        "### **2) Exemplo de implementação de tratamentos de imagens**"
      ]
    },
    {
      "cell_type": "code",
      "metadata": {
        "colab": {
          "base_uri": "https://localhost:8080/",
          "height": 640
        },
        "id": "CRbuOR7TCr2_",
        "outputId": "4eeb6086-67a4-4743-84cc-bbdc853eab5c"
      },
      "source": [
        "# tratamento de imagens com o filtro sepia\n",
        "\n",
        "# importando as libs\n",
        "import gradio as gr\n",
        "import numpy as np\n",
        "\n",
        "# função para tratar a imagem\n",
        "def sepia(img):\n",
        "  sepia_filter = np.array([\n",
        "      [.393, .769, .189],\n",
        "      [.349, .686, .168], \n",
        "      [.272, .534, .131]\n",
        "  ])\n",
        "\n",
        "  sepia_img = img.dot(sepia_filter.T)\n",
        "  sepia_img /= sepia_img.max()\n",
        "  return sepia_img\n",
        "\n",
        "iface = gr.Interface(sepia, \n",
        "                     gr.inputs.Image(shape=(200, 200)), \n",
        "                     'image')\n",
        "iface.launch()"
      ],
      "execution_count": 13,
      "outputs": [
        {
          "output_type": "stream",
          "name": "stdout",
          "text": [
            "Colab notebook detected. To show errors in colab notebook, set `debug=True` in `launch()`\n",
            "This share link will expire in 24 hours. If you need a permanent link, visit: https://gradio.app/introducing-hosted (NEW!)\n",
            "Running on External URL: https://50946.gradio.app\n",
            "Interface loading below...\n"
          ]
        },
        {
          "output_type": "display_data",
          "data": {
            "text/html": [
              "\n",
              "        <iframe\n",
              "            width=\"900\"\n",
              "            height=\"500\"\n",
              "            src=\"https://50946.gradio.app\"\n",
              "            frameborder=\"0\"\n",
              "            allowfullscreen\n",
              "        ></iframe>\n",
              "        "
            ],
            "text/plain": [
              "<IPython.lib.display.IFrame at 0x7f9df753f910>"
            ]
          },
          "metadata": {}
        },
        {
          "output_type": "execute_result",
          "data": {
            "text/plain": [
              "(<Flask 'gradio.networking'>,\n",
              " 'http://127.0.0.1:7868/',\n",
              " 'https://50946.gradio.app')"
            ]
          },
          "metadata": {},
          "execution_count": 13
        }
      ]
    },
    {
      "cell_type": "markdown",
      "metadata": {
        "id": "O_OPh8oGLbXQ"
      },
      "source": [
        "### **3) Exemplo de implementação de reconhecimento de imagens**"
      ]
    },
    {
      "cell_type": "code",
      "metadata": {
        "colab": {
          "base_uri": "https://localhost:8080/",
          "height": 640
        },
        "id": "_X8kCHbUCr0G",
        "outputId": "ea7ebfcc-45bb-4318-9bc3-c0726d741407"
      },
      "source": [
        "# reconhecimento de imagens\n",
        "\n",
        "# importando as libs\n",
        "import gradio as gr\n",
        "import tensorflow as tf\n",
        "import numpy as np\n",
        "import requests\n",
        "\n",
        "# carregando o modelo\n",
        "inception_net = tf.keras.applications.InceptionV3() \n",
        "\n",
        "# baixando rótulos legíveis por humanos para rede de imagens\n",
        "response = requests.get('https://git.io/JJkYN')\n",
        "labels = response.text.split('\\n')\n",
        "\n",
        "# função para reconhecer uma imagem\n",
        "def classify_image(inp):\n",
        "  inp = inp.reshape((-1, 299, 299, 3))\n",
        "  inp = tf.keras.applications.inception_v3.preprocess_input(inp)\n",
        "  prediction = inception_net.predict(inp).flatten()\n",
        "  return {labels[i]: float(prediction[i]) for i in range(1000)}\n",
        "\n",
        "image = gr.inputs.Image(shape=(299, 299))\n",
        "label = gr.outputs.Label(num_top_classes=3)\n",
        "\n",
        "gr.Interface(fn=classify_image, inputs=image, \n",
        "             outputs=label, \n",
        "             capture_session=True).launch()"
      ],
      "execution_count": 16,
      "outputs": [
        {
          "output_type": "stream",
          "name": "stdout",
          "text": [
            "Colab notebook detected. To show errors in colab notebook, set `debug=True` in `launch()`\n",
            "This share link will expire in 24 hours. If you need a permanent link, visit: https://gradio.app/introducing-hosted (NEW!)\n",
            "Running on External URL: https://21592.gradio.app\n",
            "Interface loading below...\n"
          ]
        },
        {
          "output_type": "display_data",
          "data": {
            "text/html": [
              "\n",
              "        <iframe\n",
              "            width=\"900\"\n",
              "            height=\"500\"\n",
              "            src=\"https://21592.gradio.app\"\n",
              "            frameborder=\"0\"\n",
              "            allowfullscreen\n",
              "        ></iframe>\n",
              "        "
            ],
            "text/plain": [
              "<IPython.lib.display.IFrame at 0x7f9da63edf50>"
            ]
          },
          "metadata": {}
        },
        {
          "output_type": "execute_result",
          "data": {
            "text/plain": [
              "(<Flask 'gradio.networking'>,\n",
              " 'http://127.0.0.1:7870/',\n",
              " 'https://21592.gradio.app')"
            ]
          },
          "metadata": {},
          "execution_count": 16
        }
      ]
    },
    {
      "cell_type": "markdown",
      "metadata": {
        "id": "y5PMXHzTQDBa"
      },
      "source": [
        "### **4) Sistema de saúde para detecção de doenças**"
      ]
    },
    {
      "cell_type": "code",
      "metadata": {
        "colab": {
          "base_uri": "https://localhost:8080/"
        },
        "id": "5wF5zCQ3CrxW",
        "outputId": "cc9fbfc9-2b83-4f13-f381-5a796a25a56d"
      },
      "source": [
        "!pip install fpdf"
      ],
      "execution_count": 3,
      "outputs": [
        {
          "output_type": "stream",
          "name": "stdout",
          "text": [
            "Collecting fpdf\n",
            "  Downloading fpdf-1.7.2.tar.gz (39 kB)\n",
            "Building wheels for collected packages: fpdf\n",
            "  Building wheel for fpdf (setup.py) ... \u001b[?25l\u001b[?25hdone\n",
            "  Created wheel for fpdf: filename=fpdf-1.7.2-py2.py3-none-any.whl size=40722 sha256=4bea2ca25cfbef4199158f6e41eb0cd7c3ea9a54324d1b014e2940c199459940\n",
            "  Stored in directory: /root/.cache/pip/wheels/d7/ca/c8/86467e7957bbbcbdf4cf4870fc7dc95e9a16404b2e3c3a98c3\n",
            "Successfully built fpdf\n",
            "Installing collected packages: fpdf\n",
            "Successfully installed fpdf-1.7.2\n"
          ]
        }
      ]
    },
    {
      "cell_type": "code",
      "metadata": {
        "id": "nL3B3QQyCrut"
      },
      "source": [
        "import gradio as gr \n",
        "import numpy as np\n",
        "from fpdf import FPDF\n",
        "import os\n",
        "import tempfile"
      ],
      "execution_count": 4,
      "outputs": []
    },
    {
      "cell_type": "code",
      "metadata": {
        "colab": {
          "base_uri": "https://localhost:8080/",
          "height": 589
        },
        "id": "OVB_aHx4CrsL",
        "outputId": "bb912121-aae4-438c-f0ce-370ba21da62a"
      },
      "source": [
        "# detecção de doenças\n",
        "def disease_report(img, scan_for, generate_report):\n",
        "  results = []\n",
        "\n",
        "  for i, mode in enumerate(['Red', 'Green', 'Blue']):\n",
        "    color_filter = np.array([0, 0, 0])\n",
        "    color_filter[i] = 1\n",
        "    results.append([mode, img + color_filter])\n",
        "\n",
        "  tmp_dir = tempfile.gettempdir()\n",
        "  report = os.path.join(tmp_dir, 'report.pdf')\n",
        "\n",
        "  if generate_report:\n",
        "    pdf = FPDF()\n",
        "    pdf.add_page()\n",
        "    pdf.set_font('Arial', size=15)\n",
        "    pdf.cell(200, 10, txt='Disease Report', \n",
        "             ln=1, align='C')\n",
        "    pdf.cell(200, 10, txt='A Gradio Demo', \n",
        "             ln=2, align='C')\n",
        "    pdf.output(report)\n",
        "  return results, report if generate_report else None\n",
        "\n",
        "iface = gr.Interface(disease_report, \n",
        "                     [\n",
        "                      'image', \n",
        "                      gr.inputs.CheckboxGroup(\n",
        "                          ['Cancer', \n",
        "                           'Rash', \n",
        "                           'Heart Failure', \n",
        "                           'Stroke', \n",
        "                           'Diabetes', \n",
        "                           'Pneumonia']), 'checkbox'],\n",
        "                     \n",
        "                     [\n",
        "                      gr.outputs.Carousel(['text','image'], label='Disease'), \n",
        "                      gr.outputs.File(label='Report')\n",
        "                     ], \n",
        "\n",
        "                     title='Disease Report', \n",
        "                     description='Upload an Xray and select the diseases to scan for.',\n",
        "                     theme='compact',\n",
        "                     flagging_options=['good', 'bad', 'etc'], \n",
        "                     allow_flagging='auto'\n",
        "                     )\n",
        "\n",
        "if __name__ == '__main__':\n",
        "  iface.launch()"
      ],
      "execution_count": 8,
      "outputs": [
        {
          "output_type": "stream",
          "name": "stdout",
          "text": [
            "Colab notebook detected. To show errors in colab notebook, set `debug=True` in `launch()`\n",
            "This share link will expire in 24 hours. If you need a permanent link, visit: https://gradio.app/introducing-hosted (NEW!)\n",
            "Running on External URL: https://25690.gradio.app\n",
            "Interface loading below...\n"
          ]
        },
        {
          "output_type": "display_data",
          "data": {
            "text/html": [
              "\n",
              "        <iframe\n",
              "            width=\"900\"\n",
              "            height=\"500\"\n",
              "            src=\"https://25690.gradio.app\"\n",
              "            frameborder=\"0\"\n",
              "            allowfullscreen\n",
              "        ></iframe>\n",
              "        "
            ],
            "text/plain": [
              "<IPython.lib.display.IFrame at 0x7f23fa58ffd0>"
            ]
          },
          "metadata": {}
        }
      ]
    },
    {
      "cell_type": "markdown",
      "metadata": {
        "id": "PuYvPU8Kckr7"
      },
      "source": [
        "### **5) Sistema de previsão de preço de ativos financeiros**"
      ]
    },
    {
      "cell_type": "code",
      "metadata": {
        "colab": {
          "base_uri": "https://localhost:8080/",
          "height": 589
        },
        "id": "reKI8f8JCrpX",
        "outputId": "3c5f0858-e88a-4c86-c950-2bd707bd75fc"
      },
      "source": [
        "import gradio as gr\n",
        "import random\n",
        "import matplotlib.pyplot as plt\n",
        "import numpy as np\n",
        "\n",
        "def plot_forecast(final_year, companies, noise, \n",
        "                  show_legend, point_style):\n",
        "  \n",
        "  start_year = 2020\n",
        "\n",
        "  x = np.arange(start_year, final_year + 1)\n",
        "  year_count = x.shape[0]\n",
        "  plt_format = ({'cross': 'X',\n",
        "                 'line': '-', \n",
        "                 'circle': 'o--'})[point_style]\n",
        "  fig = plt.figure()\n",
        "  ax = fig.add_subplot(111)\n",
        "\n",
        "  for i, company in enumerate(companies):\n",
        "    series = np.arange(0, year_count, dtype=float)\n",
        "    series = series ** 2 * (i + 1)\n",
        "    series += np.random.rand(year_count) * noise\n",
        "    ax.plot(x, series, plt_format)\n",
        "\n",
        "  if show_legend:\n",
        "    plt.legend(companies)\n",
        "  plt.close()\n",
        "  return fig\n",
        "\n",
        "iface = gr.Interface(plot_forecast, \n",
        "                     [\n",
        "                      gr.inputs.Radio([2025, 2030, 2035, 2040], \n",
        "                                      label =  'Project to:'),\n",
        "                      gr.inputs.CheckboxGroup(\n",
        "                          ['Google', 'Microsoft', 'Gradio'], label = 'Company Selection:'), \n",
        "                      gr.inputs.Slider(1, 100, label='Noise Level:'), \n",
        "                      gr.inputs.Checkbox(label='Show Legend'), \n",
        "                      gr.inputs.Dropdown(['cross', 'line', 'circle'], label='Style:'),\n",
        "                     ], \n",
        "                     gr.outputs.Image(plot=True, label='forcast')\n",
        "                     )\n",
        "\n",
        "if __name__ == '__main__':\n",
        "  iface.launch()"
      ],
      "execution_count": 12,
      "outputs": [
        {
          "output_type": "stream",
          "name": "stdout",
          "text": [
            "Colab notebook detected. To show errors in colab notebook, set `debug=True` in `launch()`\n",
            "This share link will expire in 24 hours. If you need a permanent link, visit: https://gradio.app/introducing-hosted (NEW!)\n",
            "Running on External URL: https://32527.gradio.app\n",
            "Interface loading below...\n"
          ]
        },
        {
          "output_type": "display_data",
          "data": {
            "text/html": [
              "\n",
              "        <iframe\n",
              "            width=\"900\"\n",
              "            height=\"500\"\n",
              "            src=\"https://32527.gradio.app\"\n",
              "            frameborder=\"0\"\n",
              "            allowfullscreen\n",
              "        ></iframe>\n",
              "        "
            ],
            "text/plain": [
              "<IPython.lib.display.IFrame at 0x7f23fadb8190>"
            ]
          },
          "metadata": {}
        }
      ]
    },
    {
      "cell_type": "markdown",
      "metadata": {
        "id": "Ih2fUVh8qOlr"
      },
      "source": [
        "### **6) Sistema de previsão de vendas dos funcionários**"
      ]
    },
    {
      "cell_type": "code",
      "metadata": {
        "colab": {
          "base_uri": "https://localhost:8080/",
          "height": 888
        },
        "id": "c991_Q2-CrnD",
        "outputId": "d8684b9d-a737-4d22-86ce-01af023c93e0"
      },
      "source": [
        "import gradio as gr\n",
        "import numpy as np\n",
        "import pandas as pd\n",
        "import matplotlib.pyplot as plt\n",
        "\n",
        "def sales_projections(employee_data):\n",
        "  sales_data = employee_data.iloc[:, 1:4].astype('int').to_numpy()\n",
        "  regression_values = np.apply_along_axis(\n",
        "      lambda row:\n",
        "      np.array(np.poly1d(np.polyfit([0, 1, 2], \n",
        "                                    row, 2))), \n",
        "                                    0, sales_data)\n",
        "  \n",
        "  projected_months = np.repeat(np.expand_dims(\n",
        "      np.arange(3, 12), 0), \n",
        "      len(sales_data), axis=0)\n",
        "  \n",
        "  projected_values = np.array([\n",
        "                               month * month * regression[0] + month * regression[1] + regression[2]\n",
        "                               for month, regression in zip(projected_months, regression_values)])\n",
        "  \n",
        "  plt.plot(projected_values.T)\n",
        "  plt.legend(employee_data['Name'])\n",
        "  return employee_data, plt.gcf(), regression_values\n",
        "\n",
        "iface = gr.Interface(sales_projections, \n",
        "                     gr.inputs.Dataframe(\n",
        "                         headers=['Name', 'Jan Sales', 'Feb Sales', 'Mar Sales'], \n",
        "                         default=[['Sara', 12, 14, 18],\n",
        "                                  ['Eloah', 14, 17, 12],\n",
        "                                  ['Kátia', 18, 9.5, 25]]\n",
        "                     ), \n",
        "                     [ \n",
        "                      'dataframe', \n",
        "                      'plot', \n",
        "                      'numpy'\n",
        "                     ], \n",
        "                     description='Enter sales figure for employees to predict sales trajectory over year.'\n",
        ")\n",
        "iface.launch()"
      ],
      "execution_count": 17,
      "outputs": [
        {
          "output_type": "stream",
          "name": "stdout",
          "text": [
            "Colab notebook detected. To show errors in colab notebook, set `debug=True` in `launch()`\n",
            "This share link will expire in 24 hours. If you need a permanent link, visit: https://gradio.app/introducing-hosted (NEW!)\n",
            "Running on External URL: https://53290.gradio.app\n",
            "Interface loading below...\n"
          ]
        },
        {
          "output_type": "display_data",
          "data": {
            "text/html": [
              "\n",
              "        <iframe\n",
              "            width=\"900\"\n",
              "            height=\"500\"\n",
              "            src=\"https://53290.gradio.app\"\n",
              "            frameborder=\"0\"\n",
              "            allowfullscreen\n",
              "        ></iframe>\n",
              "        "
            ],
            "text/plain": [
              "<IPython.lib.display.IFrame at 0x7f23f9e16e90>"
            ]
          },
          "metadata": {}
        },
        {
          "output_type": "execute_result",
          "data": {
            "text/plain": [
              "(<Flask 'gradio.networking'>,\n",
              " 'http://127.0.0.1:7868/',\n",
              " 'https://53290.gradio.app')"
            ]
          },
          "metadata": {},
          "execution_count": 17
        },
        {
          "output_type": "display_data",
          "data": {
            "image/png": "[encoded data removed]",
            "text/plain": [
              "<Figure size 432x288 with 1 Axes>"
            ]
          },
          "metadata": {
            "needs_background": "light"
          }
        }
      ]
    },
    {
      "cell_type": "code",
      "metadata": {
        "id": "zG79ke9LCrkR"
      },
      "source": [
        ""
      ],
      "execution_count": null,
      "outputs": []
    },
    {
      "cell_type": "code",
      "metadata": {
        "id": "xzery9uJCrh_"
      },
      "source": [
        ""
      ],
      "execution_count": null,
      "outputs": []
    },
    {
      "cell_type": "code",
      "metadata": {
        "id": "S1mBP_L7CrfW"
      },
      "source": [
        ""
      ],
      "execution_count": null,
      "outputs": []
    },
    {
      "cell_type": "code",
      "metadata": {
        "id": "XU1-WojJCrdD"
      },
      "source": [
        ""
      ],
      "execution_count": null,
      "outputs": []
    },
    {
      "cell_type": "code",
      "metadata": {
        "id": "WBvufJ5eCray"
      },
      "source": [
        ""
      ],
      "execution_count": null,
      "outputs": []
    },
    {
      "cell_type": "code",
      "metadata": {
        "id": "CYvyeuW6CrUa"
      },
      "source": [
        ""
      ],
      "execution_count": null,
      "outputs": []
    },
    {
      "cell_type": "code",
      "metadata": {
        "id": "7DtmCnlACrRv"
      },
      "source": [
        ""
      ],
      "execution_count": null,
      "outputs": []
    },
    {
      "cell_type": "code",
      "metadata": {
        "id": "7XoUMbWjCrPX"
      },
      "source": [
        ""
      ],
      "execution_count": null,
      "outputs": []
    },
    {
      "cell_type": "code",
      "metadata": {
        "id": "4DTV8SiKCrNK"
      },
      "source": [
        ""
      ],
      "execution_count": null,
      "outputs": []
    }
  ]
}